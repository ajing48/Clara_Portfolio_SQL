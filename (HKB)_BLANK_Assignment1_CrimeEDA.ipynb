{
  "nbformat": 4,
  "nbformat_minor": 0,
  "metadata": {
    "colab": {
      "provenance": [],
      "include_colab_link": true
    },
    "kernelspec": {
      "name": "python3",
      "display_name": "Python 3"
    },
    "language_info": {
      "name": "python"
    }
  },
  "cells": [
    {
      "cell_type": "markdown",
      "metadata": {
        "id": "view-in-github",
        "colab_type": "text"
      },
      "source": [
        "<a href=\"https://colab.research.google.com/github/ajing48/Hyun_Portfolio/blob/main/(HKB)_BLANK_Assignment1_CrimeEDA.ipynb\" target=\"_parent\"><img src=\"https://colab.research.google.com/assets/colab-badge.svg\" alt=\"Open In Colab\"/></a>"
      ]
    },
    {
      "cell_type": "markdown",
      "source": [
        "# EDA on Crime Dataset (Spring 2023)\n",
        "--------------------------------\n",
        "**Dr. Dave Wanik - Department of Operations and Information Management - University of Connecticut**\n",
        "\n",
        "\n",
        "Note: This assignment is used for OPIM 5641, 5502 and 5512 - if you are taking more than one of my classes, just submit this assignment for each respective class - thanks! \n",
        "\n",
        "Each question is 10 pts."
      ],
      "metadata": {
        "id": "c5UkLLFNlFCo"
      }
    },
    {
      "cell_type": "markdown",
      "source": [
        "* **Your name here:** Hyun Kyoung Baik\n",
        "* **Your student ID here:** hkb22001\n",
        "\n",
        "You can ask your fellow classmates for help, but everyone must do their own work with lots of comments and text cells. Anyone who directly copies or allows their work to be directly copied gets a 0 on the assignment and final letter grade lowered by one letter."
      ],
      "metadata": {
        "id": "pYvP_6Mwt6XE"
      }
    },
    {
      "cell_type": "markdown",
      "source": [
        "If you are new to Python, this assignment might be tricky - come to office hours for help! I've left some old output printed so that you can check your work."
      ],
      "metadata": {
        "id": "keXhoJdouvUd"
      }
    },
    {
      "cell_type": "code",
      "source": [
        "# import modules\n",
        "import pandas as pd\n",
        "import numpy as np\n",
        "import matplotlib.pyplot as plt"
      ],
      "metadata": {
        "id": "BrLllQ7dmYRj"
      },
      "execution_count": null,
      "outputs": []
    },
    {
      "cell_type": "markdown",
      "source": [
        "# Intro"
      ],
      "metadata": {
        "id": "NUYs-3NllW_Q"
      }
    },
    {
      "cell_type": "markdown",
      "source": [
        "Whenever I start a class off, I like to make sure that students have basic EDA chops in Python. This semester I picked a structured time series dataset from Wikipedia which tracks violent crime per State over a few years. This homework tests your skill at using data to tell a story about crime in the US. Good luck!"
      ],
      "metadata": {
        "id": "Uf6F1pVll0TK"
      }
    },
    {
      "cell_type": "markdown",
      "source": [
        "![crime map from Wiki](https://upload.wikimedia.org/wikipedia/commons/5/51/Violent_Crime_Rate_by_U.S._state.svg)"
      ],
      "metadata": {
        "id": "BxiqH1pylZSX"
      }
    },
    {
      "cell_type": "code",
      "execution_count": null,
      "metadata": {
        "colab": {
          "base_uri": "https://localhost:8080/",
          "height": 237
        },
        "id": "HbO1bRSuk7Rq",
        "outputId": "fa37e671-a323-4501-e238-c1125c56cf80"
      },
      "outputs": [
        {
          "output_type": "execute_result",
          "data": {
            "text/plain": [
              "     State or Territory            2020                     \\\n",
              "     State or Territory Incidence Count Violent Crime Rate   \n",
              "0                   NaN             NaN                NaN   \n",
              "1  District of Columbia         7127.00             999.80   \n",
              "2                Alaska         6126.00             837.80   \n",
              "3            New Mexico        16393.00             778.30   \n",
              "4             Tennessee        46328.00             672.70   \n",
              "\n",
              "  Historical Violent Crime Rates                                         \\\n",
              "                            2019   2018    2017    2016    2015    2014   \n",
              "0                            NaN    NaN     NaN     NaN     NaN     NaN   \n",
              "1                        1045.20 997.10 1002.70 1203.50 1269.10 1242.60   \n",
              "2                         865.00 891.70  856.70  804.60  730.20  635.50   \n",
              "3                         824.00 842.80  778.60  699.40  656.10  597.70   \n",
              "4                         598.90 630.40  655.00  638.50  612.10  610.70   \n",
              "\n",
              "                           \n",
              "     2013    2012    2011  \n",
              "0     NaN     NaN     NaN  \n",
              "1 1281.90 1241.80 1202.10  \n",
              "2  602.60  604.10  606.50  \n",
              "3  596.70  559.60  567.50  \n",
              "4  579.70  638.50  608.20  "
            ],
            "text/html": [
              "\n",
              "  <div id=\"df-cdd90409-fe1f-4d75-8e40-b1ba213b7a71\">\n",
              "    <div class=\"colab-df-container\">\n",
              "      <div>\n",
              "<style scoped>\n",
              "    .dataframe tbody tr th:only-of-type {\n",
              "        vertical-align: middle;\n",
              "    }\n",
              "\n",
              "    .dataframe tbody tr th {\n",
              "        vertical-align: top;\n",
              "    }\n",
              "\n",
              "    .dataframe thead tr th {\n",
              "        text-align: left;\n",
              "    }\n",
              "</style>\n",
              "<table border=\"1\" class=\"dataframe\">\n",
              "  <thead>\n",
              "    <tr>\n",
              "      <th></th>\n",
              "      <th>State or Territory</th>\n",
              "      <th colspan=\"2\" halign=\"left\">2020</th>\n",
              "      <th colspan=\"9\" halign=\"left\">Historical Violent Crime Rates</th>\n",
              "    </tr>\n",
              "    <tr>\n",
              "      <th></th>\n",
              "      <th>State or Territory</th>\n",
              "      <th>Incidence Count</th>\n",
              "      <th>Violent Crime Rate</th>\n",
              "      <th>2019</th>\n",
              "      <th>2018</th>\n",
              "      <th>2017</th>\n",
              "      <th>2016</th>\n",
              "      <th>2015</th>\n",
              "      <th>2014</th>\n",
              "      <th>2013</th>\n",
              "      <th>2012</th>\n",
              "      <th>2011</th>\n",
              "    </tr>\n",
              "  </thead>\n",
              "  <tbody>\n",
              "    <tr>\n",
              "      <th>0</th>\n",
              "      <td>NaN</td>\n",
              "      <td>NaN</td>\n",
              "      <td>NaN</td>\n",
              "      <td>NaN</td>\n",
              "      <td>NaN</td>\n",
              "      <td>NaN</td>\n",
              "      <td>NaN</td>\n",
              "      <td>NaN</td>\n",
              "      <td>NaN</td>\n",
              "      <td>NaN</td>\n",
              "      <td>NaN</td>\n",
              "      <td>NaN</td>\n",
              "    </tr>\n",
              "    <tr>\n",
              "      <th>1</th>\n",
              "      <td>District of Columbia</td>\n",
              "      <td>7127.00</td>\n",
              "      <td>999.80</td>\n",
              "      <td>1045.20</td>\n",
              "      <td>997.10</td>\n",
              "      <td>1002.70</td>\n",
              "      <td>1203.50</td>\n",
              "      <td>1269.10</td>\n",
              "      <td>1242.60</td>\n",
              "      <td>1281.90</td>\n",
              "      <td>1241.80</td>\n",
              "      <td>1202.10</td>\n",
              "    </tr>\n",
              "    <tr>\n",
              "      <th>2</th>\n",
              "      <td>Alaska</td>\n",
              "      <td>6126.00</td>\n",
              "      <td>837.80</td>\n",
              "      <td>865.00</td>\n",
              "      <td>891.70</td>\n",
              "      <td>856.70</td>\n",
              "      <td>804.60</td>\n",
              "      <td>730.20</td>\n",
              "      <td>635.50</td>\n",
              "      <td>602.60</td>\n",
              "      <td>604.10</td>\n",
              "      <td>606.50</td>\n",
              "    </tr>\n",
              "    <tr>\n",
              "      <th>3</th>\n",
              "      <td>New Mexico</td>\n",
              "      <td>16393.00</td>\n",
              "      <td>778.30</td>\n",
              "      <td>824.00</td>\n",
              "      <td>842.80</td>\n",
              "      <td>778.60</td>\n",
              "      <td>699.40</td>\n",
              "      <td>656.10</td>\n",
              "      <td>597.70</td>\n",
              "      <td>596.70</td>\n",
              "      <td>559.60</td>\n",
              "      <td>567.50</td>\n",
              "    </tr>\n",
              "    <tr>\n",
              "      <th>4</th>\n",
              "      <td>Tennessee</td>\n",
              "      <td>46328.00</td>\n",
              "      <td>672.70</td>\n",
              "      <td>598.90</td>\n",
              "      <td>630.40</td>\n",
              "      <td>655.00</td>\n",
              "      <td>638.50</td>\n",
              "      <td>612.10</td>\n",
              "      <td>610.70</td>\n",
              "      <td>579.70</td>\n",
              "      <td>638.50</td>\n",
              "      <td>608.20</td>\n",
              "    </tr>\n",
              "  </tbody>\n",
              "</table>\n",
              "</div>\n",
              "      <button class=\"colab-df-convert\" onclick=\"convertToInteractive('df-cdd90409-fe1f-4d75-8e40-b1ba213b7a71')\"\n",
              "              title=\"Convert this dataframe to an interactive table.\"\n",
              "              style=\"display:none;\">\n",
              "        \n",
              "  <svg xmlns=\"http://www.w3.org/2000/svg\" height=\"24px\"viewBox=\"0 0 24 24\"\n",
              "       width=\"24px\">\n",
              "    <path d=\"M0 0h24v24H0V0z\" fill=\"none\"/>\n",
              "    <path d=\"M18.56 5.44l.94 2.06.94-2.06 2.06-.94-2.06-.94-.94-2.06-.94 2.06-2.06.94zm-11 1L8.5 8.5l.94-2.06 2.06-.94-2.06-.94L8.5 2.5l-.94 2.06-2.06.94zm10 10l.94 2.06.94-2.06 2.06-.94-2.06-.94-.94-2.06-.94 2.06-2.06.94z\"/><path d=\"M17.41 7.96l-1.37-1.37c-.4-.4-.92-.59-1.43-.59-.52 0-1.04.2-1.43.59L10.3 9.45l-7.72 7.72c-.78.78-.78 2.05 0 2.83L4 21.41c.39.39.9.59 1.41.59.51 0 1.02-.2 1.41-.59l7.78-7.78 2.81-2.81c.8-.78.8-2.07 0-2.86zM5.41 20L4 18.59l7.72-7.72 1.47 1.35L5.41 20z\"/>\n",
              "  </svg>\n",
              "      </button>\n",
              "      \n",
              "  <style>\n",
              "    .colab-df-container {\n",
              "      display:flex;\n",
              "      flex-wrap:wrap;\n",
              "      gap: 12px;\n",
              "    }\n",
              "\n",
              "    .colab-df-convert {\n",
              "      background-color: #E8F0FE;\n",
              "      border: none;\n",
              "      border-radius: 50%;\n",
              "      cursor: pointer;\n",
              "      display: none;\n",
              "      fill: #1967D2;\n",
              "      height: 32px;\n",
              "      padding: 0 0 0 0;\n",
              "      width: 32px;\n",
              "    }\n",
              "\n",
              "    .colab-df-convert:hover {\n",
              "      background-color: #E2EBFA;\n",
              "      box-shadow: 0px 1px 2px rgba(60, 64, 67, 0.3), 0px 1px 3px 1px rgba(60, 64, 67, 0.15);\n",
              "      fill: #174EA6;\n",
              "    }\n",
              "\n",
              "    [theme=dark] .colab-df-convert {\n",
              "      background-color: #3B4455;\n",
              "      fill: #D2E3FC;\n",
              "    }\n",
              "\n",
              "    [theme=dark] .colab-df-convert:hover {\n",
              "      background-color: #434B5C;\n",
              "      box-shadow: 0px 1px 3px 1px rgba(0, 0, 0, 0.15);\n",
              "      filter: drop-shadow(0px 1px 2px rgba(0, 0, 0, 0.3));\n",
              "      fill: #FFFFFF;\n",
              "    }\n",
              "  </style>\n",
              "\n",
              "      <script>\n",
              "        const buttonEl =\n",
              "          document.querySelector('#df-cdd90409-fe1f-4d75-8e40-b1ba213b7a71 button.colab-df-convert');\n",
              "        buttonEl.style.display =\n",
              "          google.colab.kernel.accessAllowed ? 'block' : 'none';\n",
              "\n",
              "        async function convertToInteractive(key) {\n",
              "          const element = document.querySelector('#df-cdd90409-fe1f-4d75-8e40-b1ba213b7a71');\n",
              "          const dataTable =\n",
              "            await google.colab.kernel.invokeFunction('convertToInteractive',\n",
              "                                                     [key], {});\n",
              "          if (!dataTable) return;\n",
              "\n",
              "          const docLinkHtml = 'Like what you see? Visit the ' +\n",
              "            '<a target=\"_blank\" href=https://colab.research.google.com/notebooks/data_table.ipynb>data table notebook</a>'\n",
              "            + ' to learn more about interactive tables.';\n",
              "          element.innerHTML = '';\n",
              "          dataTable['output_type'] = 'display_data';\n",
              "          await google.colab.output.renderOutput(dataTable, element);\n",
              "          const docLink = document.createElement('div');\n",
              "          docLink.innerHTML = docLinkHtml;\n",
              "          element.appendChild(docLink);\n",
              "        }\n",
              "      </script>\n",
              "    </div>\n",
              "  </div>\n",
              "  "
            ]
          },
          "metadata": {},
          "execution_count": 454
        }
      ],
      "source": [
        "# read the data\n",
        "df = pd.read_html('https://en.wikipedia.org/wiki/List_of_U.S._states_and_territories_by_violent_crime_rate')[0]\n",
        "df.head()"
      ]
    },
    {
      "cell_type": "markdown",
      "source": [
        "This dataset is a bit dirty - let's clean it up!"
      ],
      "metadata": {
        "id": "DhDw5AOyn6TY"
      }
    },
    {
      "cell_type": "markdown",
      "source": [
        "# Q1. Collapse the multi-index\n",
        "The index is really a double index with two layers - which in my experience is quite annoying in most cases. "
      ],
      "metadata": {
        "id": "6K8uV9wKn8ca"
      }
    },
    {
      "cell_type": "code",
      "source": [
        "# look at this complicated multiIndex - yuck!\n",
        "df.columns"
      ],
      "metadata": {
        "colab": {
          "base_uri": "https://localhost:8080/"
        },
        "id": "YfbV6WL8viZR",
        "outputId": "c7954dc3-95d8-4500-b25e-01392ae85ae5"
      },
      "execution_count": null,
      "outputs": [
        {
          "output_type": "execute_result",
          "data": {
            "text/plain": [
              "MultiIndex([(            'State or Territory', 'State or Territory'),\n",
              "            (                          '2020',    'Incidence Count'),\n",
              "            (                          '2020', 'Violent Crime Rate'),\n",
              "            ('Historical Violent Crime Rates',               '2019'),\n",
              "            ('Historical Violent Crime Rates',               '2018'),\n",
              "            ('Historical Violent Crime Rates',               '2017'),\n",
              "            ('Historical Violent Crime Rates',               '2016'),\n",
              "            ('Historical Violent Crime Rates',               '2015'),\n",
              "            ('Historical Violent Crime Rates',               '2014'),\n",
              "            ('Historical Violent Crime Rates',               '2013'),\n",
              "            ('Historical Violent Crime Rates',               '2012'),\n",
              "            ('Historical Violent Crime Rates',               '2011')],\n",
              "           )"
            ]
          },
          "metadata": {},
          "execution_count": 455
        }
      ]
    },
    {
      "cell_type": "markdown",
      "source": [
        "Read these articles then make a single set of sensible column names.\n",
        "* https://stackoverflow.com/questions/14507794/how-to-flatten-a-hierarchical-index-in-columns\n",
        "* https://stackoverflow.com/questions/19758364/rename-specific-columns-in-pandas\n",
        "\n",
        "Like ['State', '2020_incidence_count', '2020_crime_rate', '2019_crime_rate', etc.]"
      ],
      "metadata": {
        "id": "Vtwf0KSevvxd"
      }
    },
    {
      "cell_type": "code",
      "source": [
        "# look at this nice index\n",
        "df.columns = df.columns.droplevel(0)"
      ],
      "metadata": {
        "id": "wHwzmGBfxu0Y"
      },
      "execution_count": null,
      "outputs": []
    },
    {
      "cell_type": "code",
      "source": [
        "df.head(5)"
      ],
      "metadata": {
        "colab": {
          "base_uri": "https://localhost:8080/",
          "height": 206
        },
        "id": "DLmJYwuMrt72",
        "outputId": "e837a970-d837-42e5-c116-4f5cb63b67fa"
      },
      "execution_count": null,
      "outputs": [
        {
          "output_type": "execute_result",
          "data": {
            "text/plain": [
              "     State or Territory  Incidence Count  Violent Crime Rate    2019   2018  \\\n",
              "0                   NaN              NaN                 NaN     NaN    NaN   \n",
              "1  District of Columbia          7127.00              999.80 1045.20 997.10   \n",
              "2                Alaska          6126.00              837.80  865.00 891.70   \n",
              "3            New Mexico         16393.00              778.30  824.00 842.80   \n",
              "4             Tennessee         46328.00              672.70  598.90 630.40   \n",
              "\n",
              "     2017    2016    2015    2014    2013    2012    2011  \n",
              "0     NaN     NaN     NaN     NaN     NaN     NaN     NaN  \n",
              "1 1002.70 1203.50 1269.10 1242.60 1281.90 1241.80 1202.10  \n",
              "2  856.70  804.60  730.20  635.50  602.60  604.10  606.50  \n",
              "3  778.60  699.40  656.10  597.70  596.70  559.60  567.50  \n",
              "4  655.00  638.50  612.10  610.70  579.70  638.50  608.20  "
            ],
            "text/html": [
              "\n",
              "  <div id=\"df-4b6002b3-06d3-4567-8e1c-3e2ac529f5c6\">\n",
              "    <div class=\"colab-df-container\">\n",
              "      <div>\n",
              "<style scoped>\n",
              "    .dataframe tbody tr th:only-of-type {\n",
              "        vertical-align: middle;\n",
              "    }\n",
              "\n",
              "    .dataframe tbody tr th {\n",
              "        vertical-align: top;\n",
              "    }\n",
              "\n",
              "    .dataframe thead th {\n",
              "        text-align: right;\n",
              "    }\n",
              "</style>\n",
              "<table border=\"1\" class=\"dataframe\">\n",
              "  <thead>\n",
              "    <tr style=\"text-align: right;\">\n",
              "      <th></th>\n",
              "      <th>State or Territory</th>\n",
              "      <th>Incidence Count</th>\n",
              "      <th>Violent Crime Rate</th>\n",
              "      <th>2019</th>\n",
              "      <th>2018</th>\n",
              "      <th>2017</th>\n",
              "      <th>2016</th>\n",
              "      <th>2015</th>\n",
              "      <th>2014</th>\n",
              "      <th>2013</th>\n",
              "      <th>2012</th>\n",
              "      <th>2011</th>\n",
              "    </tr>\n",
              "  </thead>\n",
              "  <tbody>\n",
              "    <tr>\n",
              "      <th>0</th>\n",
              "      <td>NaN</td>\n",
              "      <td>NaN</td>\n",
              "      <td>NaN</td>\n",
              "      <td>NaN</td>\n",
              "      <td>NaN</td>\n",
              "      <td>NaN</td>\n",
              "      <td>NaN</td>\n",
              "      <td>NaN</td>\n",
              "      <td>NaN</td>\n",
              "      <td>NaN</td>\n",
              "      <td>NaN</td>\n",
              "      <td>NaN</td>\n",
              "    </tr>\n",
              "    <tr>\n",
              "      <th>1</th>\n",
              "      <td>District of Columbia</td>\n",
              "      <td>7127.00</td>\n",
              "      <td>999.80</td>\n",
              "      <td>1045.20</td>\n",
              "      <td>997.10</td>\n",
              "      <td>1002.70</td>\n",
              "      <td>1203.50</td>\n",
              "      <td>1269.10</td>\n",
              "      <td>1242.60</td>\n",
              "      <td>1281.90</td>\n",
              "      <td>1241.80</td>\n",
              "      <td>1202.10</td>\n",
              "    </tr>\n",
              "    <tr>\n",
              "      <th>2</th>\n",
              "      <td>Alaska</td>\n",
              "      <td>6126.00</td>\n",
              "      <td>837.80</td>\n",
              "      <td>865.00</td>\n",
              "      <td>891.70</td>\n",
              "      <td>856.70</td>\n",
              "      <td>804.60</td>\n",
              "      <td>730.20</td>\n",
              "      <td>635.50</td>\n",
              "      <td>602.60</td>\n",
              "      <td>604.10</td>\n",
              "      <td>606.50</td>\n",
              "    </tr>\n",
              "    <tr>\n",
              "      <th>3</th>\n",
              "      <td>New Mexico</td>\n",
              "      <td>16393.00</td>\n",
              "      <td>778.30</td>\n",
              "      <td>824.00</td>\n",
              "      <td>842.80</td>\n",
              "      <td>778.60</td>\n",
              "      <td>699.40</td>\n",
              "      <td>656.10</td>\n",
              "      <td>597.70</td>\n",
              "      <td>596.70</td>\n",
              "      <td>559.60</td>\n",
              "      <td>567.50</td>\n",
              "    </tr>\n",
              "    <tr>\n",
              "      <th>4</th>\n",
              "      <td>Tennessee</td>\n",
              "      <td>46328.00</td>\n",
              "      <td>672.70</td>\n",
              "      <td>598.90</td>\n",
              "      <td>630.40</td>\n",
              "      <td>655.00</td>\n",
              "      <td>638.50</td>\n",
              "      <td>612.10</td>\n",
              "      <td>610.70</td>\n",
              "      <td>579.70</td>\n",
              "      <td>638.50</td>\n",
              "      <td>608.20</td>\n",
              "    </tr>\n",
              "  </tbody>\n",
              "</table>\n",
              "</div>\n",
              "      <button class=\"colab-df-convert\" onclick=\"convertToInteractive('df-4b6002b3-06d3-4567-8e1c-3e2ac529f5c6')\"\n",
              "              title=\"Convert this dataframe to an interactive table.\"\n",
              "              style=\"display:none;\">\n",
              "        \n",
              "  <svg xmlns=\"http://www.w3.org/2000/svg\" height=\"24px\"viewBox=\"0 0 24 24\"\n",
              "       width=\"24px\">\n",
              "    <path d=\"M0 0h24v24H0V0z\" fill=\"none\"/>\n",
              "    <path d=\"M18.56 5.44l.94 2.06.94-2.06 2.06-.94-2.06-.94-.94-2.06-.94 2.06-2.06.94zm-11 1L8.5 8.5l.94-2.06 2.06-.94-2.06-.94L8.5 2.5l-.94 2.06-2.06.94zm10 10l.94 2.06.94-2.06 2.06-.94-2.06-.94-.94-2.06-.94 2.06-2.06.94z\"/><path d=\"M17.41 7.96l-1.37-1.37c-.4-.4-.92-.59-1.43-.59-.52 0-1.04.2-1.43.59L10.3 9.45l-7.72 7.72c-.78.78-.78 2.05 0 2.83L4 21.41c.39.39.9.59 1.41.59.51 0 1.02-.2 1.41-.59l7.78-7.78 2.81-2.81c.8-.78.8-2.07 0-2.86zM5.41 20L4 18.59l7.72-7.72 1.47 1.35L5.41 20z\"/>\n",
              "  </svg>\n",
              "      </button>\n",
              "      \n",
              "  <style>\n",
              "    .colab-df-container {\n",
              "      display:flex;\n",
              "      flex-wrap:wrap;\n",
              "      gap: 12px;\n",
              "    }\n",
              "\n",
              "    .colab-df-convert {\n",
              "      background-color: #E8F0FE;\n",
              "      border: none;\n",
              "      border-radius: 50%;\n",
              "      cursor: pointer;\n",
              "      display: none;\n",
              "      fill: #1967D2;\n",
              "      height: 32px;\n",
              "      padding: 0 0 0 0;\n",
              "      width: 32px;\n",
              "    }\n",
              "\n",
              "    .colab-df-convert:hover {\n",
              "      background-color: #E2EBFA;\n",
              "      box-shadow: 0px 1px 2px rgba(60, 64, 67, 0.3), 0px 1px 3px 1px rgba(60, 64, 67, 0.15);\n",
              "      fill: #174EA6;\n",
              "    }\n",
              "\n",
              "    [theme=dark] .colab-df-convert {\n",
              "      background-color: #3B4455;\n",
              "      fill: #D2E3FC;\n",
              "    }\n",
              "\n",
              "    [theme=dark] .colab-df-convert:hover {\n",
              "      background-color: #434B5C;\n",
              "      box-shadow: 0px 1px 3px 1px rgba(0, 0, 0, 0.15);\n",
              "      filter: drop-shadow(0px 1px 2px rgba(0, 0, 0, 0.3));\n",
              "      fill: #FFFFFF;\n",
              "    }\n",
              "  </style>\n",
              "\n",
              "      <script>\n",
              "        const buttonEl =\n",
              "          document.querySelector('#df-4b6002b3-06d3-4567-8e1c-3e2ac529f5c6 button.colab-df-convert');\n",
              "        buttonEl.style.display =\n",
              "          google.colab.kernel.accessAllowed ? 'block' : 'none';\n",
              "\n",
              "        async function convertToInteractive(key) {\n",
              "          const element = document.querySelector('#df-4b6002b3-06d3-4567-8e1c-3e2ac529f5c6');\n",
              "          const dataTable =\n",
              "            await google.colab.kernel.invokeFunction('convertToInteractive',\n",
              "                                                     [key], {});\n",
              "          if (!dataTable) return;\n",
              "\n",
              "          const docLinkHtml = 'Like what you see? Visit the ' +\n",
              "            '<a target=\"_blank\" href=https://colab.research.google.com/notebooks/data_table.ipynb>data table notebook</a>'\n",
              "            + ' to learn more about interactive tables.';\n",
              "          element.innerHTML = '';\n",
              "          dataTable['output_type'] = 'display_data';\n",
              "          await google.colab.output.renderOutput(dataTable, element);\n",
              "          const docLink = document.createElement('div');\n",
              "          docLink.innerHTML = docLinkHtml;\n",
              "          element.appendChild(docLink);\n",
              "        }\n",
              "      </script>\n",
              "    </div>\n",
              "  </div>\n",
              "  "
            ]
          },
          "metadata": {},
          "execution_count": 457
        }
      ]
    },
    {
      "cell_type": "code",
      "source": [
        "# nice names for each column (you can manually rename each column)\n",
        "# or use something like _add_suffix\n",
        "df=df.rename(columns={\"Incidence Count\": \"2020_Incidence Count\",\n",
        "                   \"Violent Crime Rate\": \"2020_Violent Crime Rate\",\n",
        "                   \"2019\": \"2019_Violent Crime Rate\",\n",
        "                   \"2018\": \"2018_Violent Crime Rate\",\n",
        "                   \"2017\": \"2017_Violent Crime Rate\",\n",
        "                   \"2016\": \"2016_Violent Crime Rate\",\n",
        "                   \"2015\": \"2015_Violent Crime Rate\",\n",
        "                   \"2014\": \"2014_Violent Crime Rate\",\n",
        "                   \"2013\": \"2013_Violent Crime Rate\",\n",
        "                   \"2012\": \"2012_Violent Crime Rate\",\n",
        "                   \"2011\": \"2011_Violent Crime Rate\"\n",
        "                   })"
      ],
      "metadata": {
        "id": "GrbPzNbayXDP"
      },
      "execution_count": null,
      "outputs": []
    },
    {
      "cell_type": "code",
      "source": [
        "df.head(5)"
      ],
      "metadata": {
        "colab": {
          "base_uri": "https://localhost:8080/",
          "height": 284
        },
        "id": "0GA8bdCpyz6A",
        "outputId": "88595299-85f1-419c-f0fb-01dd011baa88"
      },
      "execution_count": null,
      "outputs": [
        {
          "output_type": "execute_result",
          "data": {
            "text/plain": [
              "     State or Territory  2020_Incidence Count  2020_Violent Crime Rate  \\\n",
              "0                   NaN                   NaN                      NaN   \n",
              "1  District of Columbia               7127.00                   999.80   \n",
              "2                Alaska               6126.00                   837.80   \n",
              "3            New Mexico              16393.00                   778.30   \n",
              "4             Tennessee              46328.00                   672.70   \n",
              "\n",
              "   2019_Violent Crime Rate  2018_Violent Crime Rate  2017_Violent Crime Rate  \\\n",
              "0                      NaN                      NaN                      NaN   \n",
              "1                  1045.20                   997.10                  1002.70   \n",
              "2                   865.00                   891.70                   856.70   \n",
              "3                   824.00                   842.80                   778.60   \n",
              "4                   598.90                   630.40                   655.00   \n",
              "\n",
              "   2016_Violent Crime Rate  2015_Violent Crime Rate  2014_Violent Crime Rate  \\\n",
              "0                      NaN                      NaN                      NaN   \n",
              "1                  1203.50                  1269.10                  1242.60   \n",
              "2                   804.60                   730.20                   635.50   \n",
              "3                   699.40                   656.10                   597.70   \n",
              "4                   638.50                   612.10                   610.70   \n",
              "\n",
              "   2013_Violent Crime Rate  2012_Violent Crime Rate  2011_Violent Crime Rate  \n",
              "0                      NaN                      NaN                      NaN  \n",
              "1                  1281.90                  1241.80                  1202.10  \n",
              "2                   602.60                   604.10                   606.50  \n",
              "3                   596.70                   559.60                   567.50  \n",
              "4                   579.70                   638.50                   608.20  "
            ],
            "text/html": [
              "\n",
              "  <div id=\"df-538ba054-f0f5-4860-8fb1-70838857ff0f\">\n",
              "    <div class=\"colab-df-container\">\n",
              "      <div>\n",
              "<style scoped>\n",
              "    .dataframe tbody tr th:only-of-type {\n",
              "        vertical-align: middle;\n",
              "    }\n",
              "\n",
              "    .dataframe tbody tr th {\n",
              "        vertical-align: top;\n",
              "    }\n",
              "\n",
              "    .dataframe thead th {\n",
              "        text-align: right;\n",
              "    }\n",
              "</style>\n",
              "<table border=\"1\" class=\"dataframe\">\n",
              "  <thead>\n",
              "    <tr style=\"text-align: right;\">\n",
              "      <th></th>\n",
              "      <th>State or Territory</th>\n",
              "      <th>2020_Incidence Count</th>\n",
              "      <th>2020_Violent Crime Rate</th>\n",
              "      <th>2019_Violent Crime Rate</th>\n",
              "      <th>2018_Violent Crime Rate</th>\n",
              "      <th>2017_Violent Crime Rate</th>\n",
              "      <th>2016_Violent Crime Rate</th>\n",
              "      <th>2015_Violent Crime Rate</th>\n",
              "      <th>2014_Violent Crime Rate</th>\n",
              "      <th>2013_Violent Crime Rate</th>\n",
              "      <th>2012_Violent Crime Rate</th>\n",
              "      <th>2011_Violent Crime Rate</th>\n",
              "    </tr>\n",
              "  </thead>\n",
              "  <tbody>\n",
              "    <tr>\n",
              "      <th>0</th>\n",
              "      <td>NaN</td>\n",
              "      <td>NaN</td>\n",
              "      <td>NaN</td>\n",
              "      <td>NaN</td>\n",
              "      <td>NaN</td>\n",
              "      <td>NaN</td>\n",
              "      <td>NaN</td>\n",
              "      <td>NaN</td>\n",
              "      <td>NaN</td>\n",
              "      <td>NaN</td>\n",
              "      <td>NaN</td>\n",
              "      <td>NaN</td>\n",
              "    </tr>\n",
              "    <tr>\n",
              "      <th>1</th>\n",
              "      <td>District of Columbia</td>\n",
              "      <td>7127.00</td>\n",
              "      <td>999.80</td>\n",
              "      <td>1045.20</td>\n",
              "      <td>997.10</td>\n",
              "      <td>1002.70</td>\n",
              "      <td>1203.50</td>\n",
              "      <td>1269.10</td>\n",
              "      <td>1242.60</td>\n",
              "      <td>1281.90</td>\n",
              "      <td>1241.80</td>\n",
              "      <td>1202.10</td>\n",
              "    </tr>\n",
              "    <tr>\n",
              "      <th>2</th>\n",
              "      <td>Alaska</td>\n",
              "      <td>6126.00</td>\n",
              "      <td>837.80</td>\n",
              "      <td>865.00</td>\n",
              "      <td>891.70</td>\n",
              "      <td>856.70</td>\n",
              "      <td>804.60</td>\n",
              "      <td>730.20</td>\n",
              "      <td>635.50</td>\n",
              "      <td>602.60</td>\n",
              "      <td>604.10</td>\n",
              "      <td>606.50</td>\n",
              "    </tr>\n",
              "    <tr>\n",
              "      <th>3</th>\n",
              "      <td>New Mexico</td>\n",
              "      <td>16393.00</td>\n",
              "      <td>778.30</td>\n",
              "      <td>824.00</td>\n",
              "      <td>842.80</td>\n",
              "      <td>778.60</td>\n",
              "      <td>699.40</td>\n",
              "      <td>656.10</td>\n",
              "      <td>597.70</td>\n",
              "      <td>596.70</td>\n",
              "      <td>559.60</td>\n",
              "      <td>567.50</td>\n",
              "    </tr>\n",
              "    <tr>\n",
              "      <th>4</th>\n",
              "      <td>Tennessee</td>\n",
              "      <td>46328.00</td>\n",
              "      <td>672.70</td>\n",
              "      <td>598.90</td>\n",
              "      <td>630.40</td>\n",
              "      <td>655.00</td>\n",
              "      <td>638.50</td>\n",
              "      <td>612.10</td>\n",
              "      <td>610.70</td>\n",
              "      <td>579.70</td>\n",
              "      <td>638.50</td>\n",
              "      <td>608.20</td>\n",
              "    </tr>\n",
              "  </tbody>\n",
              "</table>\n",
              "</div>\n",
              "      <button class=\"colab-df-convert\" onclick=\"convertToInteractive('df-538ba054-f0f5-4860-8fb1-70838857ff0f')\"\n",
              "              title=\"Convert this dataframe to an interactive table.\"\n",
              "              style=\"display:none;\">\n",
              "        \n",
              "  <svg xmlns=\"http://www.w3.org/2000/svg\" height=\"24px\"viewBox=\"0 0 24 24\"\n",
              "       width=\"24px\">\n",
              "    <path d=\"M0 0h24v24H0V0z\" fill=\"none\"/>\n",
              "    <path d=\"M18.56 5.44l.94 2.06.94-2.06 2.06-.94-2.06-.94-.94-2.06-.94 2.06-2.06.94zm-11 1L8.5 8.5l.94-2.06 2.06-.94-2.06-.94L8.5 2.5l-.94 2.06-2.06.94zm10 10l.94 2.06.94-2.06 2.06-.94-2.06-.94-.94-2.06-.94 2.06-2.06.94z\"/><path d=\"M17.41 7.96l-1.37-1.37c-.4-.4-.92-.59-1.43-.59-.52 0-1.04.2-1.43.59L10.3 9.45l-7.72 7.72c-.78.78-.78 2.05 0 2.83L4 21.41c.39.39.9.59 1.41.59.51 0 1.02-.2 1.41-.59l7.78-7.78 2.81-2.81c.8-.78.8-2.07 0-2.86zM5.41 20L4 18.59l7.72-7.72 1.47 1.35L5.41 20z\"/>\n",
              "  </svg>\n",
              "      </button>\n",
              "      \n",
              "  <style>\n",
              "    .colab-df-container {\n",
              "      display:flex;\n",
              "      flex-wrap:wrap;\n",
              "      gap: 12px;\n",
              "    }\n",
              "\n",
              "    .colab-df-convert {\n",
              "      background-color: #E8F0FE;\n",
              "      border: none;\n",
              "      border-radius: 50%;\n",
              "      cursor: pointer;\n",
              "      display: none;\n",
              "      fill: #1967D2;\n",
              "      height: 32px;\n",
              "      padding: 0 0 0 0;\n",
              "      width: 32px;\n",
              "    }\n",
              "\n",
              "    .colab-df-convert:hover {\n",
              "      background-color: #E2EBFA;\n",
              "      box-shadow: 0px 1px 2px rgba(60, 64, 67, 0.3), 0px 1px 3px 1px rgba(60, 64, 67, 0.15);\n",
              "      fill: #174EA6;\n",
              "    }\n",
              "\n",
              "    [theme=dark] .colab-df-convert {\n",
              "      background-color: #3B4455;\n",
              "      fill: #D2E3FC;\n",
              "    }\n",
              "\n",
              "    [theme=dark] .colab-df-convert:hover {\n",
              "      background-color: #434B5C;\n",
              "      box-shadow: 0px 1px 3px 1px rgba(0, 0, 0, 0.15);\n",
              "      filter: drop-shadow(0px 1px 2px rgba(0, 0, 0, 0.3));\n",
              "      fill: #FFFFFF;\n",
              "    }\n",
              "  </style>\n",
              "\n",
              "      <script>\n",
              "        const buttonEl =\n",
              "          document.querySelector('#df-538ba054-f0f5-4860-8fb1-70838857ff0f button.colab-df-convert');\n",
              "        buttonEl.style.display =\n",
              "          google.colab.kernel.accessAllowed ? 'block' : 'none';\n",
              "\n",
              "        async function convertToInteractive(key) {\n",
              "          const element = document.querySelector('#df-538ba054-f0f5-4860-8fb1-70838857ff0f');\n",
              "          const dataTable =\n",
              "            await google.colab.kernel.invokeFunction('convertToInteractive',\n",
              "                                                     [key], {});\n",
              "          if (!dataTable) return;\n",
              "\n",
              "          const docLinkHtml = 'Like what you see? Visit the ' +\n",
              "            '<a target=\"_blank\" href=https://colab.research.google.com/notebooks/data_table.ipynb>data table notebook</a>'\n",
              "            + ' to learn more about interactive tables.';\n",
              "          element.innerHTML = '';\n",
              "          dataTable['output_type'] = 'display_data';\n",
              "          await google.colab.output.renderOutput(dataTable, element);\n",
              "          const docLink = document.createElement('div');\n",
              "          docLink.innerHTML = docLinkHtml;\n",
              "          element.appendChild(docLink);\n",
              "        }\n",
              "      </script>\n",
              "    </div>\n",
              "  </div>\n",
              "  "
            ]
          },
          "metadata": {},
          "execution_count": 459
        }
      ]
    },
    {
      "cell_type": "markdown",
      "source": [
        "# Q2. What is the shape of the dataframe?\n",
        "State the number of rows and number of columns."
      ],
      "metadata": {
        "id": "5pyFylc4wBPx"
      }
    },
    {
      "cell_type": "code",
      "source": [
        "df.shape"
      ],
      "metadata": {
        "id": "98GKEDubwJrS",
        "colab": {
          "base_uri": "https://localhost:8080/"
        },
        "outputId": "a409d9de-ec29-4d15-eab2-f5e851474dd0"
      },
      "execution_count": null,
      "outputs": [
        {
          "output_type": "execute_result",
          "data": {
            "text/plain": [
              "(54, 12)"
            ]
          },
          "metadata": {},
          "execution_count": 460
        }
      ]
    },
    {
      "cell_type": "markdown",
      "source": [
        "***This dataframe has 54 rows and 12 columns***\n"
      ],
      "metadata": {
        "id": "_HWl_1uI5Mwz"
      }
    },
    {
      "cell_type": "markdown",
      "source": [
        "# Q3. Count the number of missing values per column, then print a list of unique values for the State/territory column."
      ],
      "metadata": {
        "id": "X-TV0JdTwI01"
      }
    },
    {
      "cell_type": "markdown",
      "source": [
        "Read this:\n",
        "* https://stackoverflow.com/questions/13413590/how-to-drop-rows-of-pandas-dataframe-whose-value-in-a-certain-column-is-nan\n",
        "\n",
        "Now drop any rows where the 'State or Territory' column is nan."
      ],
      "metadata": {
        "id": "TYse5qDhxdSa"
      }
    },
    {
      "cell_type": "code",
      "source": [
        "df.isnull().sum()"
      ],
      "metadata": {
        "id": "nNe6t-8ivdnO",
        "colab": {
          "base_uri": "https://localhost:8080/"
        },
        "outputId": "323db488-b458-4c28-abe7-5cf5e64c612e"
      },
      "execution_count": null,
      "outputs": [
        {
          "output_type": "execute_result",
          "data": {
            "text/plain": [
              "State or Territory         1\n",
              "2020_Incidence Count       1\n",
              "2020_Violent Crime Rate    1\n",
              "2019_Violent Crime Rate    1\n",
              "2018_Violent Crime Rate    1\n",
              "2017_Violent Crime Rate    1\n",
              "2016_Violent Crime Rate    1\n",
              "2015_Violent Crime Rate    1\n",
              "2014_Violent Crime Rate    1\n",
              "2013_Violent Crime Rate    1\n",
              "2012_Violent Crime Rate    1\n",
              "2011_Violent Crime Rate    1\n",
              "dtype: int64"
            ]
          },
          "metadata": {},
          "execution_count": 461
        }
      ]
    },
    {
      "cell_type": "markdown",
      "source": [
        "***Every column has one missing value, and the total number of  missing values from this dataset are 12***"
      ],
      "metadata": {
        "id": "7c0JyKdY8fYS"
      }
    },
    {
      "cell_type": "code",
      "source": [
        "df=df.dropna(subset=['State or Territory'])"
      ],
      "metadata": {
        "id": "0aKXOLMQ8bxb"
      },
      "execution_count": null,
      "outputs": []
    },
    {
      "cell_type": "code",
      "source": [
        "df.head(5)"
      ],
      "metadata": {
        "colab": {
          "base_uri": "https://localhost:8080/",
          "height": 284
        },
        "id": "pbL5uRfq9gFo",
        "outputId": "265f9b87-ecc9-4f8d-8f1c-c151312781ea"
      },
      "execution_count": null,
      "outputs": [
        {
          "output_type": "execute_result",
          "data": {
            "text/plain": [
              "     State or Territory  2020_Incidence Count  2020_Violent Crime Rate  \\\n",
              "1  District of Columbia               7127.00                   999.80   \n",
              "2                Alaska               6126.00                   837.80   \n",
              "3            New Mexico              16393.00                   778.30   \n",
              "4             Tennessee              46328.00                   672.70   \n",
              "5              Arkansas              20363.00                   671.90   \n",
              "\n",
              "   2019_Violent Crime Rate  2018_Violent Crime Rate  2017_Violent Crime Rate  \\\n",
              "1                  1045.20                   997.10                  1002.70   \n",
              "2                   865.00                   891.70                   856.70   \n",
              "3                   824.00                   842.80                   778.60   \n",
              "4                   598.90                   630.40                   655.00   \n",
              "5                   580.80                   561.60                   566.00   \n",
              "\n",
              "   2016_Violent Crime Rate  2015_Violent Crime Rate  2014_Violent Crime Rate  \\\n",
              "1                  1203.50                  1269.10                  1242.60   \n",
              "2                   804.60                   730.20                   635.50   \n",
              "3                   699.40                   656.10                   597.70   \n",
              "4                   638.50                   612.10                   610.70   \n",
              "5                   554.30                   521.30                   480.20   \n",
              "\n",
              "   2013_Violent Crime Rate  2012_Violent Crime Rate  2011_Violent Crime Rate  \n",
              "1                  1281.90                  1241.80                  1202.10  \n",
              "2                   602.60                   604.10                   606.50  \n",
              "3                   596.70                   559.60                   567.50  \n",
              "4                   579.70                   638.50                   608.20  \n",
              "5                   445.70                   469.60                   480.90  "
            ],
            "text/html": [
              "\n",
              "  <div id=\"df-109d334e-dd55-47ef-948d-c30d01f08e4a\">\n",
              "    <div class=\"colab-df-container\">\n",
              "      <div>\n",
              "<style scoped>\n",
              "    .dataframe tbody tr th:only-of-type {\n",
              "        vertical-align: middle;\n",
              "    }\n",
              "\n",
              "    .dataframe tbody tr th {\n",
              "        vertical-align: top;\n",
              "    }\n",
              "\n",
              "    .dataframe thead th {\n",
              "        text-align: right;\n",
              "    }\n",
              "</style>\n",
              "<table border=\"1\" class=\"dataframe\">\n",
              "  <thead>\n",
              "    <tr style=\"text-align: right;\">\n",
              "      <th></th>\n",
              "      <th>State or Territory</th>\n",
              "      <th>2020_Incidence Count</th>\n",
              "      <th>2020_Violent Crime Rate</th>\n",
              "      <th>2019_Violent Crime Rate</th>\n",
              "      <th>2018_Violent Crime Rate</th>\n",
              "      <th>2017_Violent Crime Rate</th>\n",
              "      <th>2016_Violent Crime Rate</th>\n",
              "      <th>2015_Violent Crime Rate</th>\n",
              "      <th>2014_Violent Crime Rate</th>\n",
              "      <th>2013_Violent Crime Rate</th>\n",
              "      <th>2012_Violent Crime Rate</th>\n",
              "      <th>2011_Violent Crime Rate</th>\n",
              "    </tr>\n",
              "  </thead>\n",
              "  <tbody>\n",
              "    <tr>\n",
              "      <th>1</th>\n",
              "      <td>District of Columbia</td>\n",
              "      <td>7127.00</td>\n",
              "      <td>999.80</td>\n",
              "      <td>1045.20</td>\n",
              "      <td>997.10</td>\n",
              "      <td>1002.70</td>\n",
              "      <td>1203.50</td>\n",
              "      <td>1269.10</td>\n",
              "      <td>1242.60</td>\n",
              "      <td>1281.90</td>\n",
              "      <td>1241.80</td>\n",
              "      <td>1202.10</td>\n",
              "    </tr>\n",
              "    <tr>\n",
              "      <th>2</th>\n",
              "      <td>Alaska</td>\n",
              "      <td>6126.00</td>\n",
              "      <td>837.80</td>\n",
              "      <td>865.00</td>\n",
              "      <td>891.70</td>\n",
              "      <td>856.70</td>\n",
              "      <td>804.60</td>\n",
              "      <td>730.20</td>\n",
              "      <td>635.50</td>\n",
              "      <td>602.60</td>\n",
              "      <td>604.10</td>\n",
              "      <td>606.50</td>\n",
              "    </tr>\n",
              "    <tr>\n",
              "      <th>3</th>\n",
              "      <td>New Mexico</td>\n",
              "      <td>16393.00</td>\n",
              "      <td>778.30</td>\n",
              "      <td>824.00</td>\n",
              "      <td>842.80</td>\n",
              "      <td>778.60</td>\n",
              "      <td>699.40</td>\n",
              "      <td>656.10</td>\n",
              "      <td>597.70</td>\n",
              "      <td>596.70</td>\n",
              "      <td>559.60</td>\n",
              "      <td>567.50</td>\n",
              "    </tr>\n",
              "    <tr>\n",
              "      <th>4</th>\n",
              "      <td>Tennessee</td>\n",
              "      <td>46328.00</td>\n",
              "      <td>672.70</td>\n",
              "      <td>598.90</td>\n",
              "      <td>630.40</td>\n",
              "      <td>655.00</td>\n",
              "      <td>638.50</td>\n",
              "      <td>612.10</td>\n",
              "      <td>610.70</td>\n",
              "      <td>579.70</td>\n",
              "      <td>638.50</td>\n",
              "      <td>608.20</td>\n",
              "    </tr>\n",
              "    <tr>\n",
              "      <th>5</th>\n",
              "      <td>Arkansas</td>\n",
              "      <td>20363.00</td>\n",
              "      <td>671.90</td>\n",
              "      <td>580.80</td>\n",
              "      <td>561.60</td>\n",
              "      <td>566.00</td>\n",
              "      <td>554.30</td>\n",
              "      <td>521.30</td>\n",
              "      <td>480.20</td>\n",
              "      <td>445.70</td>\n",
              "      <td>469.60</td>\n",
              "      <td>480.90</td>\n",
              "    </tr>\n",
              "  </tbody>\n",
              "</table>\n",
              "</div>\n",
              "      <button class=\"colab-df-convert\" onclick=\"convertToInteractive('df-109d334e-dd55-47ef-948d-c30d01f08e4a')\"\n",
              "              title=\"Convert this dataframe to an interactive table.\"\n",
              "              style=\"display:none;\">\n",
              "        \n",
              "  <svg xmlns=\"http://www.w3.org/2000/svg\" height=\"24px\"viewBox=\"0 0 24 24\"\n",
              "       width=\"24px\">\n",
              "    <path d=\"M0 0h24v24H0V0z\" fill=\"none\"/>\n",
              "    <path d=\"M18.56 5.44l.94 2.06.94-2.06 2.06-.94-2.06-.94-.94-2.06-.94 2.06-2.06.94zm-11 1L8.5 8.5l.94-2.06 2.06-.94-2.06-.94L8.5 2.5l-.94 2.06-2.06.94zm10 10l.94 2.06.94-2.06 2.06-.94-2.06-.94-.94-2.06-.94 2.06-2.06.94z\"/><path d=\"M17.41 7.96l-1.37-1.37c-.4-.4-.92-.59-1.43-.59-.52 0-1.04.2-1.43.59L10.3 9.45l-7.72 7.72c-.78.78-.78 2.05 0 2.83L4 21.41c.39.39.9.59 1.41.59.51 0 1.02-.2 1.41-.59l7.78-7.78 2.81-2.81c.8-.78.8-2.07 0-2.86zM5.41 20L4 18.59l7.72-7.72 1.47 1.35L5.41 20z\"/>\n",
              "  </svg>\n",
              "      </button>\n",
              "      \n",
              "  <style>\n",
              "    .colab-df-container {\n",
              "      display:flex;\n",
              "      flex-wrap:wrap;\n",
              "      gap: 12px;\n",
              "    }\n",
              "\n",
              "    .colab-df-convert {\n",
              "      background-color: #E8F0FE;\n",
              "      border: none;\n",
              "      border-radius: 50%;\n",
              "      cursor: pointer;\n",
              "      display: none;\n",
              "      fill: #1967D2;\n",
              "      height: 32px;\n",
              "      padding: 0 0 0 0;\n",
              "      width: 32px;\n",
              "    }\n",
              "\n",
              "    .colab-df-convert:hover {\n",
              "      background-color: #E2EBFA;\n",
              "      box-shadow: 0px 1px 2px rgba(60, 64, 67, 0.3), 0px 1px 3px 1px rgba(60, 64, 67, 0.15);\n",
              "      fill: #174EA6;\n",
              "    }\n",
              "\n",
              "    [theme=dark] .colab-df-convert {\n",
              "      background-color: #3B4455;\n",
              "      fill: #D2E3FC;\n",
              "    }\n",
              "\n",
              "    [theme=dark] .colab-df-convert:hover {\n",
              "      background-color: #434B5C;\n",
              "      box-shadow: 0px 1px 3px 1px rgba(0, 0, 0, 0.15);\n",
              "      filter: drop-shadow(0px 1px 2px rgba(0, 0, 0, 0.3));\n",
              "      fill: #FFFFFF;\n",
              "    }\n",
              "  </style>\n",
              "\n",
              "      <script>\n",
              "        const buttonEl =\n",
              "          document.querySelector('#df-109d334e-dd55-47ef-948d-c30d01f08e4a button.colab-df-convert');\n",
              "        buttonEl.style.display =\n",
              "          google.colab.kernel.accessAllowed ? 'block' : 'none';\n",
              "\n",
              "        async function convertToInteractive(key) {\n",
              "          const element = document.querySelector('#df-109d334e-dd55-47ef-948d-c30d01f08e4a');\n",
              "          const dataTable =\n",
              "            await google.colab.kernel.invokeFunction('convertToInteractive',\n",
              "                                                     [key], {});\n",
              "          if (!dataTable) return;\n",
              "\n",
              "          const docLinkHtml = 'Like what you see? Visit the ' +\n",
              "            '<a target=\"_blank\" href=https://colab.research.google.com/notebooks/data_table.ipynb>data table notebook</a>'\n",
              "            + ' to learn more about interactive tables.';\n",
              "          element.innerHTML = '';\n",
              "          dataTable['output_type'] = 'display_data';\n",
              "          await google.colab.output.renderOutput(dataTable, element);\n",
              "          const docLink = document.createElement('div');\n",
              "          docLink.innerHTML = docLinkHtml;\n",
              "          element.appendChild(docLink);\n",
              "        }\n",
              "      </script>\n",
              "    </div>\n",
              "  </div>\n",
              "  "
            ]
          },
          "metadata": {},
          "execution_count": 464
        }
      ]
    },
    {
      "cell_type": "code",
      "source": [
        "print(sorted(df['State or Territory'].unique()))"
      ],
      "metadata": {
        "colab": {
          "base_uri": "https://localhost:8080/"
        },
        "id": "oP9gHKomnTNJ",
        "outputId": "487ef04a-3fd6-41e9-f0ca-24c4dd53fc5c"
      },
      "execution_count": null,
      "outputs": [
        {
          "output_type": "stream",
          "name": "stdout",
          "text": [
            "['Alabama', 'Alaska', 'Arizona', 'Arkansas', 'California', 'Colorado', 'Connecticut', 'Delaware', 'District of Columbia', 'Florida', 'Georgia', 'Hawaii', 'Idaho', 'Illinois', 'Indiana', 'Iowa', 'Kansas', 'Kentucky', 'Louisiana', 'Maine', 'Maryland', 'Massachusetts', 'Michigan', 'Minnesota', 'Mississippi', 'Missouri', 'Montana', 'Nebraska', 'Nevada', 'New Hampshire', 'New Jersey', 'New Mexico', 'New York', 'North Carolina', 'North Dakota', 'Ohio', 'Oklahoma', 'Oregon', 'Pennsylvania', 'Puerto Rico', 'Rhode Island', 'South Carolina', 'South Dakota', 'Tennessee', 'Texas', 'United States', 'Utah', 'Vermont', 'Virginia', 'Washington', 'West Virginia', 'Wisconsin', 'Wyoming']\n"
          ]
        }
      ]
    },
    {
      "cell_type": "markdown",
      "source": [
        "Read this:\n",
        "* https://stackoverflow.com/questions/19960077/how-to-filter-pandas-dataframe-using-in-and-not-in-like-in-sql\n",
        "\n",
        "Now drop values where this column is equal to District of Columbia, United States or Puerto Rico. How many rows do you have now?"
      ],
      "metadata": {
        "id": "2cQSFiAUwW13"
      }
    },
    {
      "cell_type": "code",
      "source": [
        "df_dr=df[(df[\"State or Territory\"]==\"District of Columbia\") |(df[\"State or Territory\"]==\"United States\") | (df[\"State or Territory\"]==\"Puerto Rico\")].index"
      ],
      "metadata": {
        "id": "T41i7UoMxA_Y"
      },
      "execution_count": null,
      "outputs": []
    },
    {
      "cell_type": "code",
      "source": [
        "df=df.drop(df_dr)"
      ],
      "metadata": {
        "id": "sqPidDC5sD3I"
      },
      "execution_count": null,
      "outputs": []
    },
    {
      "cell_type": "code",
      "source": [
        "df.shape"
      ],
      "metadata": {
        "colab": {
          "base_uri": "https://localhost:8080/"
        },
        "id": "wDqGj9gXr5-q",
        "outputId": "7c7484b4-91d2-4ab8-fb21-557081260458"
      },
      "execution_count": null,
      "outputs": [
        {
          "output_type": "execute_result",
          "data": {
            "text/plain": [
              "(50, 12)"
            ]
          },
          "metadata": {},
          "execution_count": 468
        }
      ]
    },
    {
      "cell_type": "markdown",
      "source": [
        "***After drop the row of Districto of Columbia, United States, and Puerto Rico, the total number of row is 50***"
      ],
      "metadata": {
        "id": "qaffSGVZtUKl"
      }
    },
    {
      "cell_type": "markdown",
      "source": [
        "# Q4. Which State had the highest and lowest crime rate in 2020?"
      ],
      "metadata": {
        "id": "7TjJFZplzotN"
      }
    },
    {
      "cell_type": "markdown",
      "source": [
        "You can either sort by high and low to show the tail, or you can select the row where the min and max 2020 rates exist. Do not just print the value of the min and max!"
      ],
      "metadata": {
        "id": "q2Csz0WulXDh"
      }
    },
    {
      "cell_type": "code",
      "source": [
        "df.loc[[df['2020_Violent Crime Rate'].idxmin()]]\n"
      ],
      "metadata": {
        "id": "OGvGNSA0m52m",
        "colab": {
          "base_uri": "https://localhost:8080/",
          "height": 142
        },
        "outputId": "d79d8364-4581-4920-96ed-0c050f4df224"
      },
      "execution_count": null,
      "outputs": [
        {
          "output_type": "execute_result",
          "data": {
            "text/plain": [
              "   State or Territory  2020_Incidence Count  2020_Violent Crime Rate  \\\n",
              "52              Maine               1466.00                   108.60   \n",
              "\n",
              "    2019_Violent Crime Rate  2018_Violent Crime Rate  2017_Violent Crime Rate  \\\n",
              "52                   116.10                   112.00                   120.60   \n",
              "\n",
              "    2016_Violent Crime Rate  2015_Violent Crime Rate  2014_Violent Crime Rate  \\\n",
              "52                   124.00                   130.10                   127.60   \n",
              "\n",
              "    2013_Violent Crime Rate  2012_Violent Crime Rate  2011_Violent Crime Rate  \n",
              "52                   121.60                   122.40                   123.20  "
            ],
            "text/html": [
              "\n",
              "  <div id=\"df-0c914ab3-521b-4da9-bbb4-7c2b8673b907\">\n",
              "    <div class=\"colab-df-container\">\n",
              "      <div>\n",
              "<style scoped>\n",
              "    .dataframe tbody tr th:only-of-type {\n",
              "        vertical-align: middle;\n",
              "    }\n",
              "\n",
              "    .dataframe tbody tr th {\n",
              "        vertical-align: top;\n",
              "    }\n",
              "\n",
              "    .dataframe thead th {\n",
              "        text-align: right;\n",
              "    }\n",
              "</style>\n",
              "<table border=\"1\" class=\"dataframe\">\n",
              "  <thead>\n",
              "    <tr style=\"text-align: right;\">\n",
              "      <th></th>\n",
              "      <th>State or Territory</th>\n",
              "      <th>2020_Incidence Count</th>\n",
              "      <th>2020_Violent Crime Rate</th>\n",
              "      <th>2019_Violent Crime Rate</th>\n",
              "      <th>2018_Violent Crime Rate</th>\n",
              "      <th>2017_Violent Crime Rate</th>\n",
              "      <th>2016_Violent Crime Rate</th>\n",
              "      <th>2015_Violent Crime Rate</th>\n",
              "      <th>2014_Violent Crime Rate</th>\n",
              "      <th>2013_Violent Crime Rate</th>\n",
              "      <th>2012_Violent Crime Rate</th>\n",
              "      <th>2011_Violent Crime Rate</th>\n",
              "    </tr>\n",
              "  </thead>\n",
              "  <tbody>\n",
              "    <tr>\n",
              "      <th>52</th>\n",
              "      <td>Maine</td>\n",
              "      <td>1466.00</td>\n",
              "      <td>108.60</td>\n",
              "      <td>116.10</td>\n",
              "      <td>112.00</td>\n",
              "      <td>120.60</td>\n",
              "      <td>124.00</td>\n",
              "      <td>130.10</td>\n",
              "      <td>127.60</td>\n",
              "      <td>121.60</td>\n",
              "      <td>122.40</td>\n",
              "      <td>123.20</td>\n",
              "    </tr>\n",
              "  </tbody>\n",
              "</table>\n",
              "</div>\n",
              "      <button class=\"colab-df-convert\" onclick=\"convertToInteractive('df-0c914ab3-521b-4da9-bbb4-7c2b8673b907')\"\n",
              "              title=\"Convert this dataframe to an interactive table.\"\n",
              "              style=\"display:none;\">\n",
              "        \n",
              "  <svg xmlns=\"http://www.w3.org/2000/svg\" height=\"24px\"viewBox=\"0 0 24 24\"\n",
              "       width=\"24px\">\n",
              "    <path d=\"M0 0h24v24H0V0z\" fill=\"none\"/>\n",
              "    <path d=\"M18.56 5.44l.94 2.06.94-2.06 2.06-.94-2.06-.94-.94-2.06-.94 2.06-2.06.94zm-11 1L8.5 8.5l.94-2.06 2.06-.94-2.06-.94L8.5 2.5l-.94 2.06-2.06.94zm10 10l.94 2.06.94-2.06 2.06-.94-2.06-.94-.94-2.06-.94 2.06-2.06.94z\"/><path d=\"M17.41 7.96l-1.37-1.37c-.4-.4-.92-.59-1.43-.59-.52 0-1.04.2-1.43.59L10.3 9.45l-7.72 7.72c-.78.78-.78 2.05 0 2.83L4 21.41c.39.39.9.59 1.41.59.51 0 1.02-.2 1.41-.59l7.78-7.78 2.81-2.81c.8-.78.8-2.07 0-2.86zM5.41 20L4 18.59l7.72-7.72 1.47 1.35L5.41 20z\"/>\n",
              "  </svg>\n",
              "      </button>\n",
              "      \n",
              "  <style>\n",
              "    .colab-df-container {\n",
              "      display:flex;\n",
              "      flex-wrap:wrap;\n",
              "      gap: 12px;\n",
              "    }\n",
              "\n",
              "    .colab-df-convert {\n",
              "      background-color: #E8F0FE;\n",
              "      border: none;\n",
              "      border-radius: 50%;\n",
              "      cursor: pointer;\n",
              "      display: none;\n",
              "      fill: #1967D2;\n",
              "      height: 32px;\n",
              "      padding: 0 0 0 0;\n",
              "      width: 32px;\n",
              "    }\n",
              "\n",
              "    .colab-df-convert:hover {\n",
              "      background-color: #E2EBFA;\n",
              "      box-shadow: 0px 1px 2px rgba(60, 64, 67, 0.3), 0px 1px 3px 1px rgba(60, 64, 67, 0.15);\n",
              "      fill: #174EA6;\n",
              "    }\n",
              "\n",
              "    [theme=dark] .colab-df-convert {\n",
              "      background-color: #3B4455;\n",
              "      fill: #D2E3FC;\n",
              "    }\n",
              "\n",
              "    [theme=dark] .colab-df-convert:hover {\n",
              "      background-color: #434B5C;\n",
              "      box-shadow: 0px 1px 3px 1px rgba(0, 0, 0, 0.15);\n",
              "      filter: drop-shadow(0px 1px 2px rgba(0, 0, 0, 0.3));\n",
              "      fill: #FFFFFF;\n",
              "    }\n",
              "  </style>\n",
              "\n",
              "      <script>\n",
              "        const buttonEl =\n",
              "          document.querySelector('#df-0c914ab3-521b-4da9-bbb4-7c2b8673b907 button.colab-df-convert');\n",
              "        buttonEl.style.display =\n",
              "          google.colab.kernel.accessAllowed ? 'block' : 'none';\n",
              "\n",
              "        async function convertToInteractive(key) {\n",
              "          const element = document.querySelector('#df-0c914ab3-521b-4da9-bbb4-7c2b8673b907');\n",
              "          const dataTable =\n",
              "            await google.colab.kernel.invokeFunction('convertToInteractive',\n",
              "                                                     [key], {});\n",
              "          if (!dataTable) return;\n",
              "\n",
              "          const docLinkHtml = 'Like what you see? Visit the ' +\n",
              "            '<a target=\"_blank\" href=https://colab.research.google.com/notebooks/data_table.ipynb>data table notebook</a>'\n",
              "            + ' to learn more about interactive tables.';\n",
              "          element.innerHTML = '';\n",
              "          dataTable['output_type'] = 'display_data';\n",
              "          await google.colab.output.renderOutput(dataTable, element);\n",
              "          const docLink = document.createElement('div');\n",
              "          docLink.innerHTML = docLinkHtml;\n",
              "          element.appendChild(docLink);\n",
              "        }\n",
              "      </script>\n",
              "    </div>\n",
              "  </div>\n",
              "  "
            ]
          },
          "metadata": {},
          "execution_count": 469
        }
      ]
    },
    {
      "cell_type": "code",
      "source": [
        "df.loc[[df['2020_Violent Crime Rate'].idxmax()]]"
      ],
      "metadata": {
        "colab": {
          "base_uri": "https://localhost:8080/",
          "height": 142
        },
        "id": "h2byY0YINt_k",
        "outputId": "85674fba-46b9-43f3-f808-dc80a7ca69d5"
      },
      "execution_count": null,
      "outputs": [
        {
          "output_type": "execute_result",
          "data": {
            "text/plain": [
              "  State or Territory  2020_Incidence Count  2020_Violent Crime Rate  \\\n",
              "2             Alaska               6126.00                   837.80   \n",
              "\n",
              "   2019_Violent Crime Rate  2018_Violent Crime Rate  2017_Violent Crime Rate  \\\n",
              "2                   865.00                   891.70                   856.70   \n",
              "\n",
              "   2016_Violent Crime Rate  2015_Violent Crime Rate  2014_Violent Crime Rate  \\\n",
              "2                   804.60                   730.20                   635.50   \n",
              "\n",
              "   2013_Violent Crime Rate  2012_Violent Crime Rate  2011_Violent Crime Rate  \n",
              "2                   602.60                   604.10                   606.50  "
            ],
            "text/html": [
              "\n",
              "  <div id=\"df-4c3f4375-00c2-4cef-9279-a4ed29cf7570\">\n",
              "    <div class=\"colab-df-container\">\n",
              "      <div>\n",
              "<style scoped>\n",
              "    .dataframe tbody tr th:only-of-type {\n",
              "        vertical-align: middle;\n",
              "    }\n",
              "\n",
              "    .dataframe tbody tr th {\n",
              "        vertical-align: top;\n",
              "    }\n",
              "\n",
              "    .dataframe thead th {\n",
              "        text-align: right;\n",
              "    }\n",
              "</style>\n",
              "<table border=\"1\" class=\"dataframe\">\n",
              "  <thead>\n",
              "    <tr style=\"text-align: right;\">\n",
              "      <th></th>\n",
              "      <th>State or Territory</th>\n",
              "      <th>2020_Incidence Count</th>\n",
              "      <th>2020_Violent Crime Rate</th>\n",
              "      <th>2019_Violent Crime Rate</th>\n",
              "      <th>2018_Violent Crime Rate</th>\n",
              "      <th>2017_Violent Crime Rate</th>\n",
              "      <th>2016_Violent Crime Rate</th>\n",
              "      <th>2015_Violent Crime Rate</th>\n",
              "      <th>2014_Violent Crime Rate</th>\n",
              "      <th>2013_Violent Crime Rate</th>\n",
              "      <th>2012_Violent Crime Rate</th>\n",
              "      <th>2011_Violent Crime Rate</th>\n",
              "    </tr>\n",
              "  </thead>\n",
              "  <tbody>\n",
              "    <tr>\n",
              "      <th>2</th>\n",
              "      <td>Alaska</td>\n",
              "      <td>6126.00</td>\n",
              "      <td>837.80</td>\n",
              "      <td>865.00</td>\n",
              "      <td>891.70</td>\n",
              "      <td>856.70</td>\n",
              "      <td>804.60</td>\n",
              "      <td>730.20</td>\n",
              "      <td>635.50</td>\n",
              "      <td>602.60</td>\n",
              "      <td>604.10</td>\n",
              "      <td>606.50</td>\n",
              "    </tr>\n",
              "  </tbody>\n",
              "</table>\n",
              "</div>\n",
              "      <button class=\"colab-df-convert\" onclick=\"convertToInteractive('df-4c3f4375-00c2-4cef-9279-a4ed29cf7570')\"\n",
              "              title=\"Convert this dataframe to an interactive table.\"\n",
              "              style=\"display:none;\">\n",
              "        \n",
              "  <svg xmlns=\"http://www.w3.org/2000/svg\" height=\"24px\"viewBox=\"0 0 24 24\"\n",
              "       width=\"24px\">\n",
              "    <path d=\"M0 0h24v24H0V0z\" fill=\"none\"/>\n",
              "    <path d=\"M18.56 5.44l.94 2.06.94-2.06 2.06-.94-2.06-.94-.94-2.06-.94 2.06-2.06.94zm-11 1L8.5 8.5l.94-2.06 2.06-.94-2.06-.94L8.5 2.5l-.94 2.06-2.06.94zm10 10l.94 2.06.94-2.06 2.06-.94-2.06-.94-.94-2.06-.94 2.06-2.06.94z\"/><path d=\"M17.41 7.96l-1.37-1.37c-.4-.4-.92-.59-1.43-.59-.52 0-1.04.2-1.43.59L10.3 9.45l-7.72 7.72c-.78.78-.78 2.05 0 2.83L4 21.41c.39.39.9.59 1.41.59.51 0 1.02-.2 1.41-.59l7.78-7.78 2.81-2.81c.8-.78.8-2.07 0-2.86zM5.41 20L4 18.59l7.72-7.72 1.47 1.35L5.41 20z\"/>\n",
              "  </svg>\n",
              "      </button>\n",
              "      \n",
              "  <style>\n",
              "    .colab-df-container {\n",
              "      display:flex;\n",
              "      flex-wrap:wrap;\n",
              "      gap: 12px;\n",
              "    }\n",
              "\n",
              "    .colab-df-convert {\n",
              "      background-color: #E8F0FE;\n",
              "      border: none;\n",
              "      border-radius: 50%;\n",
              "      cursor: pointer;\n",
              "      display: none;\n",
              "      fill: #1967D2;\n",
              "      height: 32px;\n",
              "      padding: 0 0 0 0;\n",
              "      width: 32px;\n",
              "    }\n",
              "\n",
              "    .colab-df-convert:hover {\n",
              "      background-color: #E2EBFA;\n",
              "      box-shadow: 0px 1px 2px rgba(60, 64, 67, 0.3), 0px 1px 3px 1px rgba(60, 64, 67, 0.15);\n",
              "      fill: #174EA6;\n",
              "    }\n",
              "\n",
              "    [theme=dark] .colab-df-convert {\n",
              "      background-color: #3B4455;\n",
              "      fill: #D2E3FC;\n",
              "    }\n",
              "\n",
              "    [theme=dark] .colab-df-convert:hover {\n",
              "      background-color: #434B5C;\n",
              "      box-shadow: 0px 1px 3px 1px rgba(0, 0, 0, 0.15);\n",
              "      filter: drop-shadow(0px 1px 2px rgba(0, 0, 0, 0.3));\n",
              "      fill: #FFFFFF;\n",
              "    }\n",
              "  </style>\n",
              "\n",
              "      <script>\n",
              "        const buttonEl =\n",
              "          document.querySelector('#df-4c3f4375-00c2-4cef-9279-a4ed29cf7570 button.colab-df-convert');\n",
              "        buttonEl.style.display =\n",
              "          google.colab.kernel.accessAllowed ? 'block' : 'none';\n",
              "\n",
              "        async function convertToInteractive(key) {\n",
              "          const element = document.querySelector('#df-4c3f4375-00c2-4cef-9279-a4ed29cf7570');\n",
              "          const dataTable =\n",
              "            await google.colab.kernel.invokeFunction('convertToInteractive',\n",
              "                                                     [key], {});\n",
              "          if (!dataTable) return;\n",
              "\n",
              "          const docLinkHtml = 'Like what you see? Visit the ' +\n",
              "            '<a target=\"_blank\" href=https://colab.research.google.com/notebooks/data_table.ipynb>data table notebook</a>'\n",
              "            + ' to learn more about interactive tables.';\n",
              "          element.innerHTML = '';\n",
              "          dataTable['output_type'] = 'display_data';\n",
              "          await google.colab.output.renderOutput(dataTable, element);\n",
              "          const docLink = document.createElement('div');\n",
              "          docLink.innerHTML = docLinkHtml;\n",
              "          element.appendChild(docLink);\n",
              "        }\n",
              "      </script>\n",
              "    </div>\n",
              "  </div>\n",
              "  "
            ]
          },
          "metadata": {},
          "execution_count": 470
        }
      ]
    },
    {
      "cell_type": "markdown",
      "source": [
        "# Q5. Make a line plot that shows the trend of violent crime in Alaska.\n",
        "One plot for each State. X = year and Y = violent crime. Have nice titles, axes and a unique color for each plot. Note that this question probably requires you to take the transpose or to create a pivot table (your choice.)"
      ],
      "metadata": {
        "id": "7ISys26QnsFK"
      }
    },
    {
      "cell_type": "code",
      "source": [
        "tmp=df.iloc[[0]]\n",
        "tmp=tmp.transpose().sort_index()\n",
        "tmp=tmp.drop([\"2020_Incidence Count\", \"State or Territory\"])\n",
        "tmp=tmp.rename(columns={2:'Violent Crime Rate'})\n",
        "tmp"
      ],
      "metadata": {
        "colab": {
          "base_uri": "https://localhost:8080/",
          "height": 362
        },
        "id": "0iYDXZlfOk-E",
        "outputId": "1dd7c0f8-7461-4dad-e3a6-d4116eb8c1d2"
      },
      "execution_count": null,
      "outputs": [
        {
          "output_type": "execute_result",
          "data": {
            "text/plain": [
              "                        Violent Crime Rate\n",
              "2011_Violent Crime Rate             606.50\n",
              "2012_Violent Crime Rate             604.10\n",
              "2013_Violent Crime Rate             602.60\n",
              "2014_Violent Crime Rate             635.50\n",
              "2015_Violent Crime Rate             730.20\n",
              "2016_Violent Crime Rate             804.60\n",
              "2017_Violent Crime Rate             856.70\n",
              "2018_Violent Crime Rate             891.70\n",
              "2019_Violent Crime Rate             865.00\n",
              "2020_Violent Crime Rate             837.80"
            ],
            "text/html": [
              "\n",
              "  <div id=\"df-2167651c-f0cc-449f-b593-aa8f30cebf54\">\n",
              "    <div class=\"colab-df-container\">\n",
              "      <div>\n",
              "<style scoped>\n",
              "    .dataframe tbody tr th:only-of-type {\n",
              "        vertical-align: middle;\n",
              "    }\n",
              "\n",
              "    .dataframe tbody tr th {\n",
              "        vertical-align: top;\n",
              "    }\n",
              "\n",
              "    .dataframe thead th {\n",
              "        text-align: right;\n",
              "    }\n",
              "</style>\n",
              "<table border=\"1\" class=\"dataframe\">\n",
              "  <thead>\n",
              "    <tr style=\"text-align: right;\">\n",
              "      <th></th>\n",
              "      <th>Violent Crime Rate</th>\n",
              "    </tr>\n",
              "  </thead>\n",
              "  <tbody>\n",
              "    <tr>\n",
              "      <th>2011_Violent Crime Rate</th>\n",
              "      <td>606.50</td>\n",
              "    </tr>\n",
              "    <tr>\n",
              "      <th>2012_Violent Crime Rate</th>\n",
              "      <td>604.10</td>\n",
              "    </tr>\n",
              "    <tr>\n",
              "      <th>2013_Violent Crime Rate</th>\n",
              "      <td>602.60</td>\n",
              "    </tr>\n",
              "    <tr>\n",
              "      <th>2014_Violent Crime Rate</th>\n",
              "      <td>635.50</td>\n",
              "    </tr>\n",
              "    <tr>\n",
              "      <th>2015_Violent Crime Rate</th>\n",
              "      <td>730.20</td>\n",
              "    </tr>\n",
              "    <tr>\n",
              "      <th>2016_Violent Crime Rate</th>\n",
              "      <td>804.60</td>\n",
              "    </tr>\n",
              "    <tr>\n",
              "      <th>2017_Violent Crime Rate</th>\n",
              "      <td>856.70</td>\n",
              "    </tr>\n",
              "    <tr>\n",
              "      <th>2018_Violent Crime Rate</th>\n",
              "      <td>891.70</td>\n",
              "    </tr>\n",
              "    <tr>\n",
              "      <th>2019_Violent Crime Rate</th>\n",
              "      <td>865.00</td>\n",
              "    </tr>\n",
              "    <tr>\n",
              "      <th>2020_Violent Crime Rate</th>\n",
              "      <td>837.80</td>\n",
              "    </tr>\n",
              "  </tbody>\n",
              "</table>\n",
              "</div>\n",
              "      <button class=\"colab-df-convert\" onclick=\"convertToInteractive('df-2167651c-f0cc-449f-b593-aa8f30cebf54')\"\n",
              "              title=\"Convert this dataframe to an interactive table.\"\n",
              "              style=\"display:none;\">\n",
              "        \n",
              "  <svg xmlns=\"http://www.w3.org/2000/svg\" height=\"24px\"viewBox=\"0 0 24 24\"\n",
              "       width=\"24px\">\n",
              "    <path d=\"M0 0h24v24H0V0z\" fill=\"none\"/>\n",
              "    <path d=\"M18.56 5.44l.94 2.06.94-2.06 2.06-.94-2.06-.94-.94-2.06-.94 2.06-2.06.94zm-11 1L8.5 8.5l.94-2.06 2.06-.94-2.06-.94L8.5 2.5l-.94 2.06-2.06.94zm10 10l.94 2.06.94-2.06 2.06-.94-2.06-.94-.94-2.06-.94 2.06-2.06.94z\"/><path d=\"M17.41 7.96l-1.37-1.37c-.4-.4-.92-.59-1.43-.59-.52 0-1.04.2-1.43.59L10.3 9.45l-7.72 7.72c-.78.78-.78 2.05 0 2.83L4 21.41c.39.39.9.59 1.41.59.51 0 1.02-.2 1.41-.59l7.78-7.78 2.81-2.81c.8-.78.8-2.07 0-2.86zM5.41 20L4 18.59l7.72-7.72 1.47 1.35L5.41 20z\"/>\n",
              "  </svg>\n",
              "      </button>\n",
              "      \n",
              "  <style>\n",
              "    .colab-df-container {\n",
              "      display:flex;\n",
              "      flex-wrap:wrap;\n",
              "      gap: 12px;\n",
              "    }\n",
              "\n",
              "    .colab-df-convert {\n",
              "      background-color: #E8F0FE;\n",
              "      border: none;\n",
              "      border-radius: 50%;\n",
              "      cursor: pointer;\n",
              "      display: none;\n",
              "      fill: #1967D2;\n",
              "      height: 32px;\n",
              "      padding: 0 0 0 0;\n",
              "      width: 32px;\n",
              "    }\n",
              "\n",
              "    .colab-df-convert:hover {\n",
              "      background-color: #E2EBFA;\n",
              "      box-shadow: 0px 1px 2px rgba(60, 64, 67, 0.3), 0px 1px 3px 1px rgba(60, 64, 67, 0.15);\n",
              "      fill: #174EA6;\n",
              "    }\n",
              "\n",
              "    [theme=dark] .colab-df-convert {\n",
              "      background-color: #3B4455;\n",
              "      fill: #D2E3FC;\n",
              "    }\n",
              "\n",
              "    [theme=dark] .colab-df-convert:hover {\n",
              "      background-color: #434B5C;\n",
              "      box-shadow: 0px 1px 3px 1px rgba(0, 0, 0, 0.15);\n",
              "      filter: drop-shadow(0px 1px 2px rgba(0, 0, 0, 0.3));\n",
              "      fill: #FFFFFF;\n",
              "    }\n",
              "  </style>\n",
              "\n",
              "      <script>\n",
              "        const buttonEl =\n",
              "          document.querySelector('#df-2167651c-f0cc-449f-b593-aa8f30cebf54 button.colab-df-convert');\n",
              "        buttonEl.style.display =\n",
              "          google.colab.kernel.accessAllowed ? 'block' : 'none';\n",
              "\n",
              "        async function convertToInteractive(key) {\n",
              "          const element = document.querySelector('#df-2167651c-f0cc-449f-b593-aa8f30cebf54');\n",
              "          const dataTable =\n",
              "            await google.colab.kernel.invokeFunction('convertToInteractive',\n",
              "                                                     [key], {});\n",
              "          if (!dataTable) return;\n",
              "\n",
              "          const docLinkHtml = 'Like what you see? Visit the ' +\n",
              "            '<a target=\"_blank\" href=https://colab.research.google.com/notebooks/data_table.ipynb>data table notebook</a>'\n",
              "            + ' to learn more about interactive tables.';\n",
              "          element.innerHTML = '';\n",
              "          dataTable['output_type'] = 'display_data';\n",
              "          await google.colab.output.renderOutput(dataTable, element);\n",
              "          const docLink = document.createElement('div');\n",
              "          docLink.innerHTML = docLinkHtml;\n",
              "          element.appendChild(docLink);\n",
              "        }\n",
              "      </script>\n",
              "    </div>\n",
              "  </div>\n",
              "  "
            ]
          },
          "metadata": {},
          "execution_count": 471
        }
      ]
    },
    {
      "cell_type": "markdown",
      "source": [
        "Students may opt to make a new column for Year, or they can use a long column name so long as data doesn't overlap on the X axis."
      ],
      "metadata": {
        "id": "iZVde9NSqHq9"
      }
    },
    {
      "cell_type": "code",
      "source": [
        "tmp.plot()\n",
        "plt.title('Violent Crime Rate for Alaska vs.Time')\n",
        "plt.xticks(rotation=45)\n",
        "plt.show()"
      ],
      "metadata": {
        "colab": {
          "base_uri": "https://localhost:8080/",
          "height": 367
        },
        "id": "p3OCYwdoK-UU",
        "outputId": "96fe001a-00b7-4d41-d961-d439839996db"
      },
      "execution_count": null,
      "outputs": [
        {
          "output_type": "display_data",
          "data": {
            "text/plain": [
              "<Figure size 432x288 with 1 Axes>"
            ],
            "image/png": "[encoded data removed]"
          },
          "metadata": {
            "needs_background": "light"
          }
        }
      ]
    },
    {
      "cell_type": "markdown",
      "source": [
        "# Q6. Which States had crime rates go down in 2020 vs. 2019?"
      ],
      "metadata": {
        "id": "krOBDbWCz1V1"
      }
    },
    {
      "cell_type": "markdown",
      "source": [
        "Print the unique values in the State column after you do your subset."
      ],
      "metadata": {
        "id": "TeBsRGlfvw-1"
      }
    },
    {
      "cell_type": "code",
      "source": [
        "tmp=df.iloc[:,0:4]\n",
        "tmp=df[df[\"2019_Violent Crime Rate\"]>df[\"2020_Violent Crime Rate\"]]\n",
        "print(sorted(tmp['State or Territory'].unique()))"
      ],
      "metadata": {
        "colab": {
          "base_uri": "https://localhost:8080/"
        },
        "id": "0cPPSQbzQZfn",
        "outputId": "b6344aa4-86fb-4684-a21f-aed89b17435b"
      },
      "execution_count": null,
      "outputs": [
        {
          "output_type": "stream",
          "name": "stdout",
          "text": [
            "['Alabama', 'Alaska', 'California', 'Connecticut', 'Hawaii', 'Indiana', 'Maine', 'Maryland', 'Massachusetts', 'Nevada', 'New Hampshire', 'New Jersey', 'New Mexico', 'Oregon', 'Vermont', 'Virginia', 'Washington']\n"
          ]
        }
      ]
    },
    {
      "cell_type": "markdown",
      "source": [
        "# Q7. Compute the raw change between 2020 and 2019 for all States and print summary statistics.\n",
        "This one should have the raw units of Y - add a text cell and describe what you see in the summary statistics output."
      ],
      "metadata": {
        "id": "MaIfajKyz7y8"
      }
    },
    {
      "cell_type": "code",
      "source": [
        "tmp=df.loc[:,[\"State or Territory\",\"2020_Violent Crime Rate\",\"2019_Violent Crime Rate\"]]\n",
        "tmp[\"difference\"]=(df[\"2020_Violent Crime Rate\"]-df[\"2019_Violent Crime Rate\"])\n",
        "tmp=tmp[[\"difference\"]]"
      ],
      "metadata": {
        "id": "Y9VbS2Q9v5d3"
      },
      "execution_count": null,
      "outputs": []
    },
    {
      "cell_type": "code",
      "source": [
        "tmp.describe()"
      ],
      "metadata": {
        "id": "ZsxqrjJoYgvm"
      },
      "execution_count": null,
      "outputs": []
    },
    {
      "cell_type": "markdown",
      "source": [
        "# Q8. Make a nice boxplot or histogram for the output from Q7."
      ],
      "metadata": {
        "id": "HZYW9VkrqvNT"
      }
    },
    {
      "cell_type": "markdown",
      "source": [
        "Add nice labels and titles and a fun color for your boxplot."
      ],
      "metadata": {
        "id": "GKf30--orPyP"
      }
    },
    {
      "cell_type": "code",
      "source": [
        "tmp.hist(figsize=(7,5))\n",
        "plt.title(\"Distribution of Chnages in Violent Crime (Original units)\")\n",
        "plt.xlabel(\"Change in Vilonet Crimes per 100k people\")\n",
        "plt.ylabel(\"Frequency\")\n",
        "plt.show()"
      ],
      "metadata": {
        "id": "1lgiOxXfrS-B"
      },
      "execution_count": null,
      "outputs": []
    },
    {
      "cell_type": "markdown",
      "source": [
        "# Q9. Compute the percentage change between 2020 and 2019 for all States and print summary statistics"
      ],
      "metadata": {
        "id": "IOEspM27z9vD"
      }
    },
    {
      "cell_type": "markdown",
      "source": [
        "This one should be a percentage, of course! Don't forget to multiply by 100. The denominator should be 2019."
      ],
      "metadata": {
        "id": "fVKKE4yRqnIx"
      }
    },
    {
      "cell_type": "code",
      "source": [
        "tmp=df.loc[:,[\"State or Territory\",\"2020_Violent Crime Rate\",\"2019_Violent Crime Rate\"]]\n",
        "tmp[\"difference\"]=(df[\"2020_Violent Crime Rate\"]-df[\"2019_Violent Crime Rate\"])\n",
        "tmp[\"difference rate\"]=tmp[\"difference\"]/tmp[\"2019_Violent Crime Rate\"]*100\n",
        "tmp=tmp[[\"difference rate\"]]\n",
        "tmp.describe()"
      ],
      "metadata": {
        "id": "9QEwoWVlwDxD",
        "colab": {
          "base_uri": "https://localhost:8080/",
          "height": 300
        },
        "outputId": "03efa970-ddd6-4e15-c65c-e721c1938501"
      },
      "execution_count": null,
      "outputs": [
        {
          "output_type": "execute_result",
          "data": {
            "text/plain": [
              "       difference rate\n",
              "count            50.00\n",
              "mean              5.42\n",
              "std              11.12\n",
              "min             -16.31\n",
              "25%              -2.76\n",
              "50%               4.57\n",
              "75%              10.55\n",
              "max              46.45"
            ],
            "text/html": [
              "\n",
              "  <div id=\"df-92d70a2f-9be7-437f-9d83-be852841d874\">\n",
              "    <div class=\"colab-df-container\">\n",
              "      <div>\n",
              "<style scoped>\n",
              "    .dataframe tbody tr th:only-of-type {\n",
              "        vertical-align: middle;\n",
              "    }\n",
              "\n",
              "    .dataframe tbody tr th {\n",
              "        vertical-align: top;\n",
              "    }\n",
              "\n",
              "    .dataframe thead th {\n",
              "        text-align: right;\n",
              "    }\n",
              "</style>\n",
              "<table border=\"1\" class=\"dataframe\">\n",
              "  <thead>\n",
              "    <tr style=\"text-align: right;\">\n",
              "      <th></th>\n",
              "      <th>difference rate</th>\n",
              "    </tr>\n",
              "  </thead>\n",
              "  <tbody>\n",
              "    <tr>\n",
              "      <th>count</th>\n",
              "      <td>50.00</td>\n",
              "    </tr>\n",
              "    <tr>\n",
              "      <th>mean</th>\n",
              "      <td>5.42</td>\n",
              "    </tr>\n",
              "    <tr>\n",
              "      <th>std</th>\n",
              "      <td>11.12</td>\n",
              "    </tr>\n",
              "    <tr>\n",
              "      <th>min</th>\n",
              "      <td>-16.31</td>\n",
              "    </tr>\n",
              "    <tr>\n",
              "      <th>25%</th>\n",
              "      <td>-2.76</td>\n",
              "    </tr>\n",
              "    <tr>\n",
              "      <th>50%</th>\n",
              "      <td>4.57</td>\n",
              "    </tr>\n",
              "    <tr>\n",
              "      <th>75%</th>\n",
              "      <td>10.55</td>\n",
              "    </tr>\n",
              "    <tr>\n",
              "      <th>max</th>\n",
              "      <td>46.45</td>\n",
              "    </tr>\n",
              "  </tbody>\n",
              "</table>\n",
              "</div>\n",
              "      <button class=\"colab-df-convert\" onclick=\"convertToInteractive('df-92d70a2f-9be7-437f-9d83-be852841d874')\"\n",
              "              title=\"Convert this dataframe to an interactive table.\"\n",
              "              style=\"display:none;\">\n",
              "        \n",
              "  <svg xmlns=\"http://www.w3.org/2000/svg\" height=\"24px\"viewBox=\"0 0 24 24\"\n",
              "       width=\"24px\">\n",
              "    <path d=\"M0 0h24v24H0V0z\" fill=\"none\"/>\n",
              "    <path d=\"M18.56 5.44l.94 2.06.94-2.06 2.06-.94-2.06-.94-.94-2.06-.94 2.06-2.06.94zm-11 1L8.5 8.5l.94-2.06 2.06-.94-2.06-.94L8.5 2.5l-.94 2.06-2.06.94zm10 10l.94 2.06.94-2.06 2.06-.94-2.06-.94-.94-2.06-.94 2.06-2.06.94z\"/><path d=\"M17.41 7.96l-1.37-1.37c-.4-.4-.92-.59-1.43-.59-.52 0-1.04.2-1.43.59L10.3 9.45l-7.72 7.72c-.78.78-.78 2.05 0 2.83L4 21.41c.39.39.9.59 1.41.59.51 0 1.02-.2 1.41-.59l7.78-7.78 2.81-2.81c.8-.78.8-2.07 0-2.86zM5.41 20L4 18.59l7.72-7.72 1.47 1.35L5.41 20z\"/>\n",
              "  </svg>\n",
              "      </button>\n",
              "      \n",
              "  <style>\n",
              "    .colab-df-container {\n",
              "      display:flex;\n",
              "      flex-wrap:wrap;\n",
              "      gap: 12px;\n",
              "    }\n",
              "\n",
              "    .colab-df-convert {\n",
              "      background-color: #E8F0FE;\n",
              "      border: none;\n",
              "      border-radius: 50%;\n",
              "      cursor: pointer;\n",
              "      display: none;\n",
              "      fill: #1967D2;\n",
              "      height: 32px;\n",
              "      padding: 0 0 0 0;\n",
              "      width: 32px;\n",
              "    }\n",
              "\n",
              "    .colab-df-convert:hover {\n",
              "      background-color: #E2EBFA;\n",
              "      box-shadow: 0px 1px 2px rgba(60, 64, 67, 0.3), 0px 1px 3px 1px rgba(60, 64, 67, 0.15);\n",
              "      fill: #174EA6;\n",
              "    }\n",
              "\n",
              "    [theme=dark] .colab-df-convert {\n",
              "      background-color: #3B4455;\n",
              "      fill: #D2E3FC;\n",
              "    }\n",
              "\n",
              "    [theme=dark] .colab-df-convert:hover {\n",
              "      background-color: #434B5C;\n",
              "      box-shadow: 0px 1px 3px 1px rgba(0, 0, 0, 0.15);\n",
              "      filter: drop-shadow(0px 1px 2px rgba(0, 0, 0, 0.3));\n",
              "      fill: #FFFFFF;\n",
              "    }\n",
              "  </style>\n",
              "\n",
              "      <script>\n",
              "        const buttonEl =\n",
              "          document.querySelector('#df-92d70a2f-9be7-437f-9d83-be852841d874 button.colab-df-convert');\n",
              "        buttonEl.style.display =\n",
              "          google.colab.kernel.accessAllowed ? 'block' : 'none';\n",
              "\n",
              "        async function convertToInteractive(key) {\n",
              "          const element = document.querySelector('#df-92d70a2f-9be7-437f-9d83-be852841d874');\n",
              "          const dataTable =\n",
              "            await google.colab.kernel.invokeFunction('convertToInteractive',\n",
              "                                                     [key], {});\n",
              "          if (!dataTable) return;\n",
              "\n",
              "          const docLinkHtml = 'Like what you see? Visit the ' +\n",
              "            '<a target=\"_blank\" href=https://colab.research.google.com/notebooks/data_table.ipynb>data table notebook</a>'\n",
              "            + ' to learn more about interactive tables.';\n",
              "          element.innerHTML = '';\n",
              "          dataTable['output_type'] = 'display_data';\n",
              "          await google.colab.output.renderOutput(dataTable, element);\n",
              "          const docLink = document.createElement('div');\n",
              "          docLink.innerHTML = docLinkHtml;\n",
              "          element.appendChild(docLink);\n",
              "        }\n",
              "      </script>\n",
              "    </div>\n",
              "  </div>\n",
              "  "
            ]
          },
          "metadata": {},
          "execution_count": 495
        }
      ]
    },
    {
      "cell_type": "markdown",
      "source": [
        "# Q10. Make a nice boxplot or histogram for the output from Q9."
      ],
      "metadata": {
        "id": "T5QnKyzXq3QW"
      }
    },
    {
      "cell_type": "code",
      "source": [
        "tmp.hist(color='red')\n",
        "plt.title(\"Distribution of Changes in Violent Crime (perc change)\")\n",
        "plt.ylabel(\"Frequency\")\n",
        "plt.xlabel(\"% change in Violent Crimes per 100k people\")\n",
        "plt.show()"
      ],
      "metadata": {
        "id": "811ANxkiq9_E",
        "colab": {
          "base_uri": "https://localhost:8080/",
          "height": 295
        },
        "outputId": "d5ed0683-73c0-4d65-d073-e95d3377f01c"
      },
      "execution_count": null,
      "outputs": [
        {
          "output_type": "display_data",
          "data": {
            "text/plain": [
              "<Figure size 432x288 with 1 Axes>"
            ],
            "image/png": "[encoded data removed]"
          },
          "metadata": {
            "needs_background": "light"
          }
        }
      ]
    }
  ]
}